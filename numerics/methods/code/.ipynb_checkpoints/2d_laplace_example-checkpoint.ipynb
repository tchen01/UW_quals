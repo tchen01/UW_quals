{
 "cells": [
  {
   "cell_type": "code",
   "execution_count": 1,
   "metadata": {},
   "outputs": [],
   "source": [
    "import matplotlib.pyplot as plt\n",
    "import numpy as np\n",
    "import scipy as sp\n",
    "from scipy import sparse\n",
    "from scipy.sparse import linalg"
   ]
  },
  {
   "cell_type": "markdown",
   "metadata": {},
   "source": [
    "## Problem Statement\n",
    "We will solve\n",
    "$$u_{xx}+u_{yy}+k^2u=(k^2-5\\pi^2)\\sin(\\pi x)\\sin(2\\pi x)$$\n",
    "on the unit square, with Dirichlet conditions $u(x,y) = 0$ on the boundary."
   ]
  },
  {
   "cell_type": "markdown",
   "metadata": {},
   "source": [
    "## Set up right hand side function"
   ]
  },
  {
   "cell_type": "code",
   "execution_count": 357,
   "metadata": {},
   "outputs": [],
   "source": [
    "k = 60;\n",
    "\n",
    "def rhs(x,y):\n",
    "    return (k**2-5*np.pi**2)*np.sin(np.pi*x)*np.sin(2*np.pi*y)"
   ]
  },
  {
   "cell_type": "markdown",
   "metadata": {},
   "source": [
    "## Set up discritization\n",
    "We take $m$ to be the number of interior points on the mesh and $h$ to be the space between the points."
   ]
  },
  {
   "cell_type": "code",
   "execution_count": 358,
   "metadata": {},
   "outputs": [],
   "source": [
    "m = 20\n",
    "h = 1/(m+1)"
   ]
  },
  {
   "cell_type": "markdown",
   "metadata": {},
   "source": [
    "We discritize using the 5-point Laplacian. In particular, we will have difference matrix,\n",
    "$$ A = \\frac{1}{h^2} (I \\otimes S + T\\otimes I) + k^2 I\\otimes I$$\n",
    "where $\\otimes$ is the kroneker product of matrices and $S$, $T$, and $I$ are $m\\times m$ matrices of the form,\n",
    "$$ S = \\left[\\begin{array}{cccc}\n",
    "-4& 1 \\\\ \n",
    "1 & \\ddots & \\ddots \\\\\n",
    "&  \\ddots & \\ddots & 1 \\\\\n",
    "& & 1 & -4\n",
    "\\end{array}\\right]\n",
    ", \\hspace{3em}\n",
    "T = \\left[\\begin{array}{cccc}\n",
    "0& 1 \\\\ \n",
    "1 & \\ddots & \\ddots \\\\\n",
    "&  \\ddots & \\ddots & 1 \\\\\n",
    "& & 1 & 0\n",
    "\\end{array}\\right]\n",
    ", \\hspace{3em}\n",
    "I = \\left[\\begin{array}{cccc}\n",
    "1&  \\\\ \n",
    "& \\ddots &  \\\\\n",
    "& & & \\ddots &  \\\\\n",
    "& & & & 1\n",
    "\\end{array}\\right]\n",
    "$$"
   ]
  },
  {
   "cell_type": "code",
   "execution_count": 359,
   "metadata": {},
   "outputs": [],
   "source": [
    "S = sp.sparse.diags([-4*np.ones(m),np.ones(m-1),np.ones(m-1)],[0,1,-1])\n",
    "T = sp.sparse.diags([np.ones(m-1),np.ones(m-1)],[1,-1])\n",
    "I = sp.sparse.eye(m)"
   ]
  },
  {
   "cell_type": "code",
   "execution_count": 360,
   "metadata": {},
   "outputs": [],
   "source": [
    "A = (1/h**2)*(sp.sparse.kron(I,S)+sp.sparse.kron(T,I)) + k**2*sp.sparse.kron(I,I)"
   ]
  },
  {
   "cell_type": "markdown",
   "metadata": {},
   "source": [
    "We now set up the right hand side function. In particular, we will evalueate $rhs(x,y)$ on at every point $(x,y)$ on the mesh and then reshape it to a $m^2\\times 1$ vector."
   ]
  },
  {
   "cell_type": "code",
   "execution_count": 361,
   "metadata": {},
   "outputs": [],
   "source": [
    "x = np.linspace(0,1,m+2)\n",
    "xx,yy = np.meshgrid(x,x)\n",
    "\n",
    "f = rhs(xx,yy)[1:-1,1:-1]\n",
    "F = np.reshape(f,m*m)"
   ]
  },
  {
   "cell_type": "markdown",
   "metadata": {},
   "source": [
    "Now solve the system and rehape the solution to a $m\\times m$ array."
   ]
  },
  {
   "cell_type": "code",
   "execution_count": 362,
   "metadata": {},
   "outputs": [],
   "source": [
    "U = sp.sparse.linalg.spsolve(A,F)\n",
    "u = np.reshape(U,(m,m))"
   ]
  },
  {
   "cell_type": "code",
   "execution_count": 363,
   "metadata": {},
   "outputs": [
    {
     "data": {
      "image/png": "[encoded data removed]",
      "text/plain": [
       "<matplotlib.figure.Figure at 0x7fb60c785860>"
      ]
     },
     "metadata": {},
     "output_type": "display_data"
    }
   ],
   "source": [
    "plt.figure()\n",
    "plt.pcolor(u)\n",
    "plt.axis('image')\n",
    "plt.show()"
   ]
  },
  {
   "cell_type": "markdown",
   "metadata": {},
   "source": [
    "## Compute Error\n",
    "We know this system has actual solution\n",
    "$$ u(x,y) = \\sin(\\pi x)\\sin(2\\pi y) $$"
   ]
  },
  {
   "cell_type": "code",
   "execution_count": 364,
   "metadata": {},
   "outputs": [],
   "source": [
    "def u_true(x,y):\n",
    "    return np.sin(np.pi*x)*np.sin(2*np.pi*y)"
   ]
  },
  {
   "cell_type": "code",
   "execution_count": 365,
   "metadata": {},
   "outputs": [
    {
     "data": {
      "image/png": "[encoded data removed]",
      "text/plain": [
       "<matplotlib.figure.Figure at 0x7fb60e05d828>"
      ]
     },
     "metadata": {},
     "output_type": "display_data"
    }
   ],
   "source": [
    "u_true_mesh = u_true(xx,yy)[1:-1,1:-1]\n",
    "\n",
    "plt.figure()\n",
    "plt.pcolor(u_true_mesh)\n",
    "plt.axis('image')\n",
    "plt.show()"
   ]
  },
  {
   "cell_type": "code",
   "execution_count": 366,
   "metadata": {},
   "outputs": [
    {
     "data": {
      "text/plain": [
       "0.0011692733585816628"
      ]
     },
     "execution_count": 366,
     "metadata": {},
     "output_type": "execute_result"
    }
   ],
   "source": [
    "error = np.linalg.norm(u - u_true_mesh,np.inf)\n",
    "error"
   ]
  },
  {
   "cell_type": "markdown",
   "metadata": {},
   "source": [
    "## Solve Using Jacobi"
   ]
  },
  {
   "cell_type": "code",
   "execution_count": 367,
   "metadata": {},
   "outputs": [],
   "source": [
    "def jacobi(A,b,x,max_iter):\n",
    "    D = sp.sparse.diags(A.diagonal())\n",
    "    for k in range(max_iter):\n",
    "        r = b-A@x\n",
    "        z = sp.sparse.linalg.spsolve(D,r)\n",
    "        x = x+z\n",
    "    return x"
   ]
  },
  {
   "cell_type": "code",
   "execution_count": 368,
   "metadata": {},
   "outputs": [
    {
     "name": "stderr",
     "output_type": "stream",
     "text": [
      "/home/tyler/anaconda3/lib/python3.6/site-packages/scipy/sparse/linalg/dsolve/linsolve.py:133: SparseEfficiencyWarning: spsolve requires A be CSC or CSR matrix format\n",
      "  SparseEfficiencyWarning)\n"
     ]
    }
   ],
   "source": [
    "U_jacobi = jacobi(A,F,np.random.rand(m*m),200)\n",
    "u_jacobi = np.reshape(U_jacobi,(m,m))"
   ]
  },
  {
   "cell_type": "code",
   "execution_count": 369,
   "metadata": {},
   "outputs": [
    {
     "data": {
      "image/png": "[encoded data removed]",
      "text/plain": [
       "<matplotlib.figure.Figure at 0x7fb60cc41d68>"
      ]
     },
     "metadata": {},
     "output_type": "display_data"
    }
   ],
   "source": [
    "plt.pcolor(u_jacobi)\n",
    "plt.axis('image')\n",
    "plt.show()"
   ]
  },
  {
   "cell_type": "code",
   "execution_count": 370,
   "metadata": {},
   "outputs": [
    {
     "data": {
      "text/plain": [
       "0.0014657879493867598"
      ]
     },
     "execution_count": 370,
     "metadata": {},
     "output_type": "execute_result"
    }
   ],
   "source": [
    "error_jacobi = np.linalg.norm(u_jacobi - u_true_mesh,np.inf)\n",
    "error_jacobi"
   ]
  }
 ],
 "metadata": {
  "kernelspec": {
   "display_name": "Python [default]",
   "language": "python",
   "name": "python3"
  },
  "language_info": {
   "codemirror_mode": {
    "name": "ipython",
    "version": 3
   },
   "file_extension": ".py",
   "mimetype": "text/x-python",
   "name": "python",
   "nbconvert_exporter": "python",
   "pygments_lexer": "ipython3",
   "version": "3.6.1"
  }
 },
 "nbformat": 4,
 "nbformat_minor": 2
}
